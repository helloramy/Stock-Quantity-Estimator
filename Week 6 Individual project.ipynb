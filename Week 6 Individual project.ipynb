{
 "cells": [
  {
   "cell_type": "code",
   "execution_count": 6,
   "id": "2a468c66",
   "metadata": {},
   "outputs": [
    {
     "name": "stdout",
     "output_type": "stream",
     "text": [
      "Please enter Initial Stock Level:500\n",
      "\n",
      "Please enter No. of Months to Plan:5\n",
      "\n",
      "\n",
      " Please enter the Planned Sales Quantity for Month 1:300\n",
      "\n",
      " Please enter the Planned Sales Quantity for Month 2:250\n",
      "\n",
      " Please enter the Planned Sales Quantity for Month 3:200\n",
      "\n",
      " Please enter the Planned Sales Quantity for Month 4:400\n",
      "\n",
      " Please enter the Planned Sales Quantity for Month 5:100\n",
      "\n",
      "The resulting production quantities are:\n",
      ">>>Production Quantity for Month 1 - 0\n",
      ">>>Production Quantity for Month 2 - 50\n",
      ">>>Production Quantity for Month 3 - 200\n",
      ">>>Production Quantity for Month 4 - 400\n",
      ">>>Production Quantity for Month 5 - 100\n"
     ]
    }
   ],
   "source": [
    "# Inviting user to input initial stock & no. of months\n",
    "initial_stock = int(input('Please enter Initial Stock Level:'))\n",
    "print()\n",
    "\n",
    "number_of_months = int(input('Please enter No. of Months to Plan:'))\n",
    "print()\n",
    "\n",
    "# Initialize the stock level for the first month\n",
    "stock_level = initial_stock\n",
    "production_quantities = []\n",
    "\n",
    "# Calculate the production quantity by iterating over each month\n",
    "for month in range(1, number_of_months + 1):\n",
    "    planned_sales_quantity = int(input(f'\\n Please enter the Planned Sales Quantity for Month {month}:'))\n",
    "    if planned_sales_quantity <= stock_level:\n",
    "        production_quantity = 0\n",
    "    else:\n",
    "        production_quantity = planned_sales_quantity - stock_level\n",
    "\n",
    "    stock_level = stock_level + production_quantity - planned_sales_quantity\n",
    "\n",
    "    production_quantities.append(production_quantity)\n",
    "\n",
    "# Printing the output\n",
    "print(\"\\nThe resulting production quantities are:\")\n",
    "\n",
    "for month, production_qty in enumerate(production_quantities):\n",
    "    print(f\">>>Production Quantity for Month {month+1} - {production_qty}\")"
   ]
  },
  {
   "cell_type": "code",
   "execution_count": null,
   "id": "18d71382",
   "metadata": {},
   "outputs": [],
   "source": []
  },
  {
   "cell_type": "code",
   "execution_count": null,
   "id": "25e822b5",
   "metadata": {},
   "outputs": [],
   "source": []
  },
  {
   "cell_type": "code",
   "execution_count": null,
   "id": "613e305f",
   "metadata": {},
   "outputs": [],
   "source": []
  }
 ],
 "metadata": {
  "kernelspec": {
   "display_name": "Python 3 (ipykernel)",
   "language": "python",
   "name": "python3"
  },
  "language_info": {
   "codemirror_mode": {
    "name": "ipython",
    "version": 3
   },
   "file_extension": ".py",
   "mimetype": "text/x-python",
   "name": "python",
   "nbconvert_exporter": "python",
   "pygments_lexer": "ipython3",
   "version": "3.11.3"
  }
 },
 "nbformat": 4,
 "nbformat_minor": 5
}
